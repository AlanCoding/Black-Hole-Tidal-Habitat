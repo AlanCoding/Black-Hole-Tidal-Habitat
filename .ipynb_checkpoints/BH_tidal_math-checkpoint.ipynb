{
 "cells": [
  {
   "cell_type": "code",
   "execution_count": 1,
   "metadata": {
    "collapsed": true
   },
   "outputs": [],
   "source": [
    "from scipy import constants as const"
   ]
  },
  {
   "cell_type": "code",
   "execution_count": 2,
   "metadata": {
    "collapsed": true
   },
   "outputs": [],
   "source": [
    "from IPython.display import Image"
   ]
  },
  {
   "cell_type": "markdown",
   "metadata": {},
   "source": [
    "Governing Equations"
   ]
  },
  {
   "cell_type": "code",
   "execution_count": 3,
   "metadata": {},
   "outputs": [
    {
     "data": {
      "image/png": "[encoded data removed]",
      "text/plain": [
       "<IPython.core.display.Image object>"
      ]
     },
     "execution_count": 3,
     "metadata": {},
     "output_type": "execute_result"
    }
   ],
   "source": [
    "Image(\"assets/principles2.png\")"
   ]
  },
  {
   "cell_type": "markdown",
   "metadata": {},
   "source": [
    "Some Bounding Inequalities"
   ]
  },
  {
   "cell_type": "markdown",
   "metadata": {},
   "source": [
    "maximum acceptable l value notated as L\n",
    "### Spagetificiation limit\n",
    "lmin ~ 50 m"
   ]
  },
  {
   "cell_type": "code",
   "execution_count": 66,
   "metadata": {
    "collapsed": true
   },
   "outputs": [],
   "source": [
    "lmin = 50"
   ]
  },
  {
   "cell_type": "code",
   "execution_count": 4,
   "metadata": {},
   "outputs": [
    {
     "data": {
      "image/png": "[encoded data removed]",
      "text/plain": [
       "<IPython.core.display.Image object>"
      ]
     },
     "execution_count": 4,
     "metadata": {},
     "output_type": "execute_result"
    }
   ],
   "source": [
    "Image(\"assets/inequality2.png\")"
   ]
  },
  {
   "cell_type": "markdown",
   "metadata": {},
   "source": [
    "Available constant references"
   ]
  },
  {
   "cell_type": "code",
   "execution_count": 5,
   "metadata": {},
   "outputs": [
    {
     "name": "stdout",
     "output_type": "stream",
     "text": [
      "6.67408e-11\n",
      "299792458.0\n",
      "9.80665\n"
     ]
    }
   ],
   "source": [
    "print const.G\n",
    "print const.c\n",
    "print const.g"
   ]
  },
  {
   "cell_type": "code",
   "execution_count": 6,
   "metadata": {
    "collapsed": true
   },
   "outputs": [],
   "source": [
    "l = 300e6"
   ]
  },
  {
   "cell_type": "markdown",
   "metadata": {},
   "source": [
    "Establishing mass range"
   ]
  },
  {
   "cell_type": "markdown",
   "metadata": {},
   "source": [
    "### Maximum\n",
    "3GM/2c^2 = (LMG/g)^1/3  \n",
    "M^(2/3) 3G/2c^2 = (LG/g)^(1/3) -> M^(2/3) = 2c^2/(3G) * (LG/g)^(1/3)  \n",
    "### Minimum\n",
    "L = (LMG/g)^1/3  \n",
    "Mmax = L^3 g / (LG) = L^2 g / G\n",
    "### Minimum (spagettii)\n",
    "Mmin_s = lmin^2 g / G"
   ]
  },
  {
   "cell_type": "code",
   "execution_count": 76,
   "metadata": {},
   "outputs": [
    {
     "name": "stdout",
     "output_type": "stream",
     "text": [
      "Gmax 1.21544161439e+39\n",
      "Gmin 1.32242721094e+28\n"
     ]
    }
   ],
   "source": [
    "# Gmax = (l*const.G/const.g*(2*const.c**2/(3*const.G))**3)**(2./3)\n",
    "Mmax = (2*const.c**2/(3*const.G)*(l*const.G/const.g)**(1./3))**(3./2)\n",
    "print \"Gmax %s\" % Mmax\n",
    "Mmin = l**2*const.g/const.G\n",
    "print \"Gmin %s\" % Mmin"
   ]
  },
  {
   "cell_type": "code",
   "execution_count": 62,
   "metadata": {},
   "outputs": [
    {
     "name": "stdout",
     "output_type": "stream",
     "text": [
      "escape velocity 76.7071704601 km/s\n"
     ]
    }
   ],
   "source": [
    "pot = const.G*Gmin/l\n",
    "vel = pot**(1./2)\n",
    "print 'escape velocity %s km/s' % (2**(1./2)*vel/1000.)"
   ]
  },
  {
   "cell_type": "code",
   "execution_count": null,
   "metadata": {},
   "outputs": [],
   "source": []
  },
  {
   "cell_type": "code",
   "execution_count": 22,
   "metadata": {
    "collapsed": true
   },
   "outputs": [],
   "source": [
    "import numpy as np\n",
    "import matplotlib.pyplot as plt"
   ]
  },
  {
   "cell_type": "code",
   "execution_count": 69,
   "metadata": {
    "collapsed": true
   },
   "outputs": [],
   "source": [
    "def lower_range(M):\n",
    "    return 3*const.G*M/(2*const.c**2)\n",
    "\n",
    "def lower_range2(M):\n",
    "    return abs((lmin*const.G*M/const.g)**(1./3))\n",
    "\n",
    "def upper_range(M):\n",
    "    return abs((l*const.G*M/const.g)**(1./3))"
   ]
  },
  {
   "cell_type": "code",
   "execution_count": 75,
   "metadata": {},
   "outputs": [
    {
     "data": {
      "image/png": "[encoded data removed]",
      "text/plain": [
       "<matplotlib.figure.Figure at 0x1057b1dd0>"
      ]
     },
     "metadata": {},
     "output_type": "display_data"
    }
   ],
   "source": [
    "x = np.linspace(0, Gmin*5, 500)\n",
    "\n",
    "fig, ax = plt.subplots()\n",
    "line1, = ax.plot(x, lower_range(x), label='Lower radii bound')\n",
    "lines, = ax.plot(x, lower_range(x), '--', label='Spaghettification limit')\n",
    "line2, = ax.plot(x, upper_range(x), label='Upper radii bound')\n",
    "line3, = ax.plot(x, l+x*0, label='Validity constraint')\n",
    "\n",
    "ax.legend(loc='lower right')\n",
    "plt.show()"
   ]
  },
  {
   "cell_type": "code",
   "execution_count": 74,
   "metadata": {},
   "outputs": [
    {
     "data": {
      "image/png": "[encoded data removed]",
      "text/plain": [
       "<matplotlib.figure.Figure at 0x1055bf650>"
      ]
     },
     "metadata": {},
     "output_type": "display_data"
    }
   ],
   "source": [
    "x = np.linspace(0, Gmax, 500)\n",
    "\n",
    "fig, ax = plt.subplots()\n",
    "line1, = ax.plot(x, lower_range(x), label='Lower radii bound')\n",
    "lines, = ax.plot(x, lower_range(x), '--', label='Spaghettification limit')\n",
    "line2, = ax.plot(x, upper_range(x), label='Upper radii bound')\n",
    "line3, = ax.plot(x, l+x*0, label='Validity constraint')\n",
    "\n",
    "ax.legend(loc='lower right')\n",
    "plt.show()"
   ]
  },
  {
   "cell_type": "markdown",
   "metadata": {
    "collapsed": true
   },
   "source": [
    "### Mass scales\n",
    "1e31 - small stellar mass black hole  \n",
    "1e32 - large stellar mass black hole  \n",
    "7e36 - galatic black hole  \n",
    "4e40 - largest recorded"
   ]
  },
  {
   "cell_type": "code",
   "execution_count": null,
   "metadata": {
    "collapsed": true
   },
   "outputs": [],
   "source": []
  },
  {
   "cell_type": "code",
   "execution_count": null,
   "metadata": {
    "collapsed": true
   },
   "outputs": [],
   "source": []
  }
 ],
 "metadata": {
  "kernelspec": {
   "display_name": "Python 2",
   "language": "python",
   "name": "python2"
  },
  "language_info": {
   "codemirror_mode": {
    "name": "ipython",
    "version": 2
   },
   "file_extension": ".py",
   "mimetype": "text/x-python",
   "name": "python",
   "nbconvert_exporter": "python",
   "pygments_lexer": "ipython2",
   "version": "2.7.11"
  }
 },
 "nbformat": 4,
 "nbformat_minor": 2
}
